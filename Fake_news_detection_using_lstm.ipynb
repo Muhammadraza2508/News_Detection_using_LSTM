{
  "nbformat": 4,
  "nbformat_minor": 0,
  "metadata": {
    "colab": {
      "provenance": [],
      "gpuType": "T4",
      "authorship_tag": "ABX9TyMQsRLyx7foOZMJEE3BaaLl",
      "include_colab_link": true
    },
    "kernelspec": {
      "name": "python3",
      "display_name": "Python 3"
    },
    "language_info": {
      "name": "python"
    },
    "accelerator": "GPU",
    "gpuClass": "standard"
  },
  "cells": [
    {
      "cell_type": "markdown",
      "metadata": {
        "id": "view-in-github",
        "colab_type": "text"
      },
      "source": [
        "<a href=\"https://colab.research.google.com/github/Muhammadraza2508/News_Detection_using_LSTM/blob/main/Fake_news_detection_using_lstm.ipynb\" target=\"_parent\"><img src=\"https://colab.research.google.com/assets/colab-badge.svg\" alt=\"Open In Colab\"/></a>"
      ]
    },
    {
      "cell_type": "code",
      "execution_count": 1,
      "metadata": {
        "id": "RwXkWND4W0gV"
      },
      "outputs": [],
      "source": [
        "import pandas as pd\n",
        "import numpy as np\n",
        "import matplotlib.pyplot as plt\n",
        "import seaborn as sns\n",
        "import nltk\n",
        "import re\n",
        "#wordcloud is used to visualize the total text \n",
        "from wordcloud import WordCloud"
      ]
    },
    {
      "cell_type": "code",
      "source": [
        "#tokenizing our text data   \n",
        "from tensorflow.keras.preprocessing.text import Tokenizer\n",
        "#pad sequences is used when input is small because deep learning model is used constant input lets say it take 700 text some sentence has 500 it will cover 200 \n",
        "from tensorflow.keras.preprocessing.sequence import pad_sequences\n",
        "#include the layers of model in sequential\n",
        "from tensorflow.keras.models import Sequential\n",
        "from tensorflow.keras.layers import Dense,Embedding,LSTM,Conv1D,MaxPool1D\n",
        "from sklearn.model_selection import train_test_split\n",
        "from sklearn.metrics import classification_report, accuracy_score  "
      ],
      "metadata": {
        "id": "wEW-NHdrYvhL"
      },
      "execution_count": 3,
      "outputs": []
    }
  ]
}